{
    "nbformat_minor": 1, 
    "cells": [
        {
            "source": "# Step One - Web Scraping of Canada data from wikipedia.org", 
            "cell_type": "markdown", 
            "metadata": {
                "collapsed": true
            }
        }, 
        {
            "source": "### install beautiful soup v4\n\n!conda install -c conda-forge beautifulsoup4 \n", 
            "cell_type": "code", 
            "execution_count": 16, 
            "outputs": [
                {
                    "output_type": "stream", 
                    "name": "stdout", 
                    "text": "Solving environment: done\n\n## Package Plan ##\n\n  environment location: /opt/conda/envs/Python36\n\n  added / updated specs: \n    - beautifulsoup4\n\n\nThe following packages will be downloaded:\n\n    package                    |            build\n    ---------------------------|-----------------\n    beautifulsoup4-4.8.0       |           py36_0         144 KB  conda-forge\n\nThe following packages will be UPDATED:\n\n    beautifulsoup4: 4.7.1-py36_1 --> 4.8.0-py36_0 conda-forge\n\n\nDownloading and Extracting Packages\nbeautifulsoup4-4.8.0 | 144 KB    | ##################################### | 100% \nPreparing transaction: done\nVerifying transaction: done\nExecuting transaction: done\n"
                }
            ], 
            "metadata": {
                "scrolled": true
            }
        }, 
        {
            "source": "from bs4 import BeautifulSoup\nimport requests\nimport pandas as pd\n\nhtml_doc = 'https://en.wikipedia.org/wiki/List_of_postal_codes_of_Canada:_M'\n", 
            "cell_type": "code", 
            "execution_count": 1, 
            "outputs": [], 
            "metadata": {}
        }, 
        {
            "source": "### retreive the web page for html_doc \n\npage = requests.get(html_doc)\n", 
            "cell_type": "code", 
            "execution_count": 2, 
            "outputs": [], 
            "metadata": {}
        }, 
        {
            "source": "### process the contents of the web page request \n\nsoup = BeautifulSoup(page.content, 'html5lib')\n", 
            "cell_type": "code", 
            "execution_count": 3, 
            "outputs": [], 
            "metadata": {}
        }, 
        {
            "source": "### capture the table of Canadian postal codes from the web page \n\ntable = soup.find('table', attrs={'class':'wikitable sortable'})\n", 
            "cell_type": "code", 
            "execution_count": 4, 
            "outputs": [], 
            "metadata": {}
        }, 
        {
            "source": "### capture all the rows of the table \ntable_rows = table.find_all('tr')\n", 
            "cell_type": "code", 
            "execution_count": 5, 
            "outputs": [], 
            "metadata": {}
        }, 
        {
            "source": "###print(table_rows)", 
            "cell_type": "code", 
            "execution_count": 6, 
            "outputs": [], 
            "metadata": {}
        }, 
        {
            "source": "### copy rows of table from the web page to a new list\npostal_codes = []\nfor tr in table_rows:\n    td = tr.find_all('td')\n    row = [tr.text for tr in td]\n    postal_codes.append(row)\n", 
            "cell_type": "code", 
            "execution_count": 48, 
            "outputs": [], 
            "metadata": {}
        }, 
        {
            "source": "### convert list to a DF with column headings\n\ndf_postal_codes = pd.DataFrame(postal_codes, columns = [\"Postcode\", \"Borough\", \"Neighbourhood\"]) \n", 
            "cell_type": "code", 
            "execution_count": 49, 
            "outputs": [], 
            "metadata": {}
        }, 
        {
            "source": "df_postal_codes.head()", 
            "cell_type": "code", 
            "execution_count": 50, 
            "outputs": [
                {
                    "output_type": "execute_result", 
                    "metadata": {}, 
                    "data": {
                        "text/html": "<div>\n<style scoped>\n    .dataframe tbody tr th:only-of-type {\n        vertical-align: middle;\n    }\n\n    .dataframe tbody tr th {\n        vertical-align: top;\n    }\n\n    .dataframe thead th {\n        text-align: right;\n    }\n</style>\n<table border=\"1\" class=\"dataframe\">\n  <thead>\n    <tr style=\"text-align: right;\">\n      <th></th>\n      <th>Postcode</th>\n      <th>Borough</th>\n      <th>Neighbourhood</th>\n    </tr>\n  </thead>\n  <tbody>\n    <tr>\n      <th>0</th>\n      <td>None</td>\n      <td>None</td>\n      <td>None</td>\n    </tr>\n    <tr>\n      <th>1</th>\n      <td>M1A</td>\n      <td>Not assigned</td>\n      <td>Not assigned\\n</td>\n    </tr>\n    <tr>\n      <th>2</th>\n      <td>M2A</td>\n      <td>Not assigned</td>\n      <td>Not assigned\\n</td>\n    </tr>\n    <tr>\n      <th>3</th>\n      <td>M3A</td>\n      <td>North York</td>\n      <td>Parkwoods\\n</td>\n    </tr>\n    <tr>\n      <th>4</th>\n      <td>M4A</td>\n      <td>North York</td>\n      <td>Victoria Village\\n</td>\n    </tr>\n  </tbody>\n</table>\n</div>", 
                        "text/plain": "  Postcode       Borough       Neighbourhood\n0     None          None                None\n1      M1A  Not assigned      Not assigned\\n\n2      M2A  Not assigned      Not assigned\\n\n3      M3A    North York         Parkwoods\\n\n4      M4A    North York  Victoria Village\\n"
                    }, 
                    "execution_count": 50
                }
            ], 
            "metadata": {}
        }, 
        {
            "source": "### drop first row from the DF that from converting the list to a DF\ndf_postal_codes = df_postal_codes.drop(0)", 
            "cell_type": "code", 
            "execution_count": 51, 
            "outputs": [], 
            "metadata": {}
        }, 
        {
            "source": "### remove rows where Borough = Not assigned\ndf_postal_codes_refined = df_postal_codes[df_postal_codes['Borough'] != \"Not assigned\"]\n", 
            "cell_type": "code", 
            "execution_count": 52, 
            "outputs": [], 
            "metadata": {}
        }, 
        {
            "source": "### remove \\n from the neightbourhood column \n### if the Neighbourhood = \"Not assigned\" then set it to the Borough column value\n\nfor index, row in df_postal_codes_refined.iterrows():\n    \n    name = row['Neighbourhood']\n    name = name.strip('\\n')\n    #if name[name_len-2:name_len] == \"\\n\":\n    df_postal_codes_refined.at[index, 'Neighbourhood'] = name  \n    \n    if row['Neighbourhood'] == \"Not assigned\":\n        df_postal_codes_refined.at[index, 'Neighbourhood'] = row['Borough']  \n\n", 
            "cell_type": "code", 
            "execution_count": 53, 
            "outputs": [], 
            "metadata": {}
        }, 
        {
            "source": "### don't need to set an index for now\n###df_postal_codes_refined.set_index(['Postcode'], inplace=True)\n", 
            "cell_type": "code", 
            "execution_count": 54, 
            "outputs": [], 
            "metadata": {}
        }, 
        {
            "source": "print(df_postal_codes_refined.head())\nprint(len(df_postal_codes_refined))", 
            "cell_type": "code", 
            "execution_count": 66, 
            "outputs": [
                {
                    "output_type": "stream", 
                    "name": "stdout", 
                    "text": "  Postcode           Borough     Neighbourhood\n3      M3A        North York         Parkwoods\n4      M4A        North York  Victoria Village\n5      M5A  Downtown Toronto      Harbourfront\n6      M5A  Downtown Toronto       Regent Park\n7      M6A        North York  Lawrence Heights\n211\n"
                }
            ], 
            "metadata": {
                "scrolled": true
            }
        }, 
        {
            "source": "df_postal_codes_final = df_postal_codes_refined.groupby(['Postcode', 'Borough'])['Neighbourhood'].apply(','.join).reset_index()\n", 
            "cell_type": "code", 
            "execution_count": 67, 
            "outputs": [], 
            "metadata": {}
        }, 
        {
            "source": "\nprint(df_postal_codes_final.head())", 
            "cell_type": "code", 
            "execution_count": 68, 
            "outputs": [
                {
                    "output_type": "stream", 
                    "name": "stdout", 
                    "text": "  Postcode      Borough                         Neighbourhood\n0      M1B  Scarborough                         Rouge,Malvern\n1      M1C  Scarborough  Highland Creek,Rouge Hill,Port Union\n2      M1E  Scarborough       Guildwood,Morningside,West Hill\n3      M1G  Scarborough                                Woburn\n4      M1H  Scarborough                             Cedarbrae\n"
                }
            ], 
            "metadata": {}
        }, 
        {
            "source": "df_postal_codes_final.shape", 
            "cell_type": "code", 
            "execution_count": 69, 
            "outputs": [
                {
                    "output_type": "execute_result", 
                    "metadata": {}, 
                    "data": {
                        "text/plain": "(103, 3)"
                    }, 
                    "execution_count": 69
                }
            ], 
            "metadata": {}
        }
    ], 
    "nbformat": 4, 
    "metadata": {
        "kernelspec": {
            "display_name": "Python 3.6", 
            "name": "python3", 
            "language": "python"
        }, 
        "language_info": {
            "mimetype": "text/x-python", 
            "nbconvert_exporter": "python", 
            "version": "3.6.8", 
            "name": "python", 
            "pygments_lexer": "ipython3", 
            "file_extension": ".py", 
            "codemirror_mode": {
                "version": 3, 
                "name": "ipython"
            }
        }
    }
}