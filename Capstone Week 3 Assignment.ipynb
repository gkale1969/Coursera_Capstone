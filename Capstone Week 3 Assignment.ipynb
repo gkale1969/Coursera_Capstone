{
    "nbformat_minor": 1, 
    "cells": [
        {
            "source": "# Step One - Web Scraping of Canada data from wikipedia.org", 
            "cell_type": "markdown", 
            "metadata": {
                "collapsed": true
            }
        }, 
        {
            "source": "### install beautiful soup v4\n\n!conda install -c conda-forge beautifulsoup4 \n", 
            "cell_type": "code", 
            "execution_count": 75, 
            "outputs": [
                {
                    "output_type": "stream", 
                    "name": "stdout", 
                    "text": "Solving environment: done\n\n## Package Plan ##\n\n  environment location: /opt/conda/envs/Python36\n\n  added / updated specs: \n    - beautifulsoup4\n\n\nThe following packages will be downloaded:\n\n    package                    |            build\n    ---------------------------|-----------------\n    openssl-1.1.1c             |       h516909a_0         2.1 MB  conda-forge\n    beautifulsoup4-4.8.0       |           py36_0         144 KB  conda-forge\n    certifi-2019.9.11          |           py36_0         147 KB  conda-forge\n    ca-certificates-2019.9.11  |       hecc5488_0         144 KB  conda-forge\n    ------------------------------------------------------------\n                                           Total:         2.5 MB\n\nThe following packages will be UPDATED:\n\n    beautifulsoup4:  4.7.1-py36_1      --> 4.8.0-py36_0         conda-forge\n    ca-certificates: 2019.5.15-1       --> 2019.9.11-hecc5488_0 conda-forge\n    certifi:         2019.6.16-py36_1  --> 2019.9.11-py36_0     conda-forge\n\nThe following packages will be DOWNGRADED:\n\n    openssl:         1.1.1d-h7b6447c_1 --> 1.1.1c-h516909a_0    conda-forge\n\n\nDownloading and Extracting Packages\nopenssl-1.1.1c       | 2.1 MB    | ##################################### | 100% \nbeautifulsoup4-4.8.0 | 144 KB    | ##################################### | 100% \ncertifi-2019.9.11    | 147 KB    | ##################################### | 100% \nca-certificates-2019 | 144 KB    | ##################################### | 100% \nPreparing transaction: done\nVerifying transaction: done\nExecuting transaction: done\n"
                }
            ], 
            "metadata": {
                "scrolled": true
            }
        }, 
        {
            "source": "from bs4 import BeautifulSoup\nimport requests\nimport pandas as pd\n\nhtml_doc = 'https://en.wikipedia.org/wiki/List_of_postal_codes_of_Canada:_M'\n", 
            "cell_type": "code", 
            "execution_count": 76, 
            "outputs": [], 
            "metadata": {}
        }, 
        {
            "source": "### retreive the web page for html_doc \n\npage = requests.get(html_doc)\n", 
            "cell_type": "code", 
            "execution_count": 77, 
            "outputs": [], 
            "metadata": {}
        }, 
        {
            "source": "### process the contents of the web page request \n\nsoup = BeautifulSoup(page.content, 'html5lib')\n", 
            "cell_type": "code", 
            "execution_count": 78, 
            "outputs": [], 
            "metadata": {}
        }, 
        {
            "source": "### capture the table of Canadian postal codes from the web page \n\ntable = soup.find('table', attrs={'class':'wikitable sortable'})\n", 
            "cell_type": "code", 
            "execution_count": 79, 
            "outputs": [], 
            "metadata": {}
        }, 
        {
            "source": "### capture all the rows of the table \ntable_rows = table.find_all('tr')\n", 
            "cell_type": "code", 
            "execution_count": 80, 
            "outputs": [], 
            "metadata": {}
        }, 
        {
            "source": "###print(table_rows)", 
            "cell_type": "code", 
            "execution_count": 81, 
            "outputs": [], 
            "metadata": {}
        }, 
        {
            "source": "### copy rows of table from the web page to a new list\npostal_codes = []\nfor tr in table_rows:\n    td = tr.find_all('td')\n    row = [tr.text for tr in td]\n    postal_codes.append(row)\n", 
            "cell_type": "code", 
            "execution_count": 82, 
            "outputs": [], 
            "metadata": {}
        }, 
        {
            "source": "### convert list to a DF with column headings\n\ndf_postal_codes = pd.DataFrame(postal_codes, columns = [\"Postcode\", \"Borough\", \"Neighbourhood\"]) \n", 
            "cell_type": "code", 
            "execution_count": 83, 
            "outputs": [], 
            "metadata": {}
        }, 
        {
            "source": "df_postal_codes.head()", 
            "cell_type": "code", 
            "execution_count": 84, 
            "outputs": [
                {
                    "output_type": "execute_result", 
                    "metadata": {}, 
                    "data": {
                        "text/html": "<div>\n<style scoped>\n    .dataframe tbody tr th:only-of-type {\n        vertical-align: middle;\n    }\n\n    .dataframe tbody tr th {\n        vertical-align: top;\n    }\n\n    .dataframe thead th {\n        text-align: right;\n    }\n</style>\n<table border=\"1\" class=\"dataframe\">\n  <thead>\n    <tr style=\"text-align: right;\">\n      <th></th>\n      <th>Postcode</th>\n      <th>Borough</th>\n      <th>Neighbourhood</th>\n    </tr>\n  </thead>\n  <tbody>\n    <tr>\n      <th>0</th>\n      <td>None</td>\n      <td>None</td>\n      <td>None</td>\n    </tr>\n    <tr>\n      <th>1</th>\n      <td>M1A</td>\n      <td>Not assigned</td>\n      <td>Not assigned\\n</td>\n    </tr>\n    <tr>\n      <th>2</th>\n      <td>M2A</td>\n      <td>Not assigned</td>\n      <td>Not assigned\\n</td>\n    </tr>\n    <tr>\n      <th>3</th>\n      <td>M3A</td>\n      <td>North York</td>\n      <td>Parkwoods\\n</td>\n    </tr>\n    <tr>\n      <th>4</th>\n      <td>M4A</td>\n      <td>North York</td>\n      <td>Victoria Village\\n</td>\n    </tr>\n  </tbody>\n</table>\n</div>", 
                        "text/plain": "  Postcode       Borough       Neighbourhood\n0     None          None                None\n1      M1A  Not assigned      Not assigned\\n\n2      M2A  Not assigned      Not assigned\\n\n3      M3A    North York         Parkwoods\\n\n4      M4A    North York  Victoria Village\\n"
                    }, 
                    "execution_count": 84
                }
            ], 
            "metadata": {}
        }, 
        {
            "source": "### drop first row from the DF that from converting the list to a DF\ndf_postal_codes = df_postal_codes.drop(0)", 
            "cell_type": "code", 
            "execution_count": 85, 
            "outputs": [], 
            "metadata": {}
        }, 
        {
            "source": "### remove rows where Borough = Not assigned\ndf_postal_codes_refined = df_postal_codes[df_postal_codes['Borough'] != \"Not assigned\"]\n", 
            "cell_type": "code", 
            "execution_count": 86, 
            "outputs": [], 
            "metadata": {}
        }, 
        {
            "source": "### remove \\n from the neightbourhood column \n### if the Neighbourhood = \"Not assigned\" then set it to the Borough column value\n\nfor index, row in df_postal_codes_refined.iterrows():\n    \n    name = row['Neighbourhood']\n    name = name.strip('\\n')\n    #if name[name_len-2:name_len] == \"\\n\":\n    df_postal_codes_refined.at[index, 'Neighbourhood'] = name  \n    \n    if row['Neighbourhood'] == \"Not assigned\":\n        df_postal_codes_refined.at[index, 'Neighbourhood'] = row['Borough']  \n\n", 
            "cell_type": "code", 
            "execution_count": 87, 
            "outputs": [], 
            "metadata": {}
        }, 
        {
            "source": "### don't need to set an index for now\n###df_postal_codes_refined.set_index(['Postcode'], inplace=True)\n", 
            "cell_type": "code", 
            "execution_count": 88, 
            "outputs": [], 
            "metadata": {}
        }, 
        {
            "source": "print(df_postal_codes_refined.head())\nprint(len(df_postal_codes_refined))", 
            "cell_type": "code", 
            "execution_count": 89, 
            "outputs": [
                {
                    "output_type": "stream", 
                    "name": "stdout", 
                    "text": "  Postcode           Borough     Neighbourhood\n3      M3A        North York         Parkwoods\n4      M4A        North York  Victoria Village\n5      M5A  Downtown Toronto      Harbourfront\n6      M5A  Downtown Toronto       Regent Park\n7      M6A        North York  Lawrence Heights\n211\n"
                }
            ], 
            "metadata": {
                "scrolled": true
            }
        }, 
        {
            "source": "df_postal_codes_final = df_postal_codes_refined.groupby(['Postcode', 'Borough'])['Neighbourhood'].apply(','.join).reset_index()\n", 
            "cell_type": "code", 
            "execution_count": 90, 
            "outputs": [], 
            "metadata": {}
        }, 
        {
            "source": "\nprint(df_postal_codes_final.head())", 
            "cell_type": "code", 
            "execution_count": 91, 
            "outputs": [
                {
                    "output_type": "stream", 
                    "name": "stdout", 
                    "text": "  Postcode      Borough                         Neighbourhood\n0      M1B  Scarborough                         Rouge,Malvern\n1      M1C  Scarborough  Highland Creek,Rouge Hill,Port Union\n2      M1E  Scarborough       Guildwood,Morningside,West Hill\n3      M1G  Scarborough                                Woburn\n4      M1H  Scarborough                             Cedarbrae\n"
                }
            ], 
            "metadata": {}
        }, 
        {
            "source": "df_postal_codes_final.shape", 
            "cell_type": "code", 
            "execution_count": 92, 
            "outputs": [
                {
                    "output_type": "execute_result", 
                    "metadata": {}, 
                    "data": {
                        "text/plain": "(103, 3)"
                    }, 
                    "execution_count": 92
                }
            ], 
            "metadata": {}
        }, 
        {
            "source": "# Step Two - get long and lat for each location ", 
            "cell_type": "markdown", 
            "metadata": {}
        }, 
        {
            "source": "\n#!wget -q -O 'Geospatial_data.csv' http://cocl.us/Geospatial_data\n#print('Data downloaded!')\n\n\npath='http://cocl.us/Geospatial_data'\ndf_geospatial = pd.read_csv(path)\ndf_geospatial.head()\n", 
            "cell_type": "code", 
            "execution_count": 95, 
            "outputs": [
                {
                    "output_type": "execute_result", 
                    "metadata": {}, 
                    "data": {
                        "text/html": "<div>\n<style scoped>\n    .dataframe tbody tr th:only-of-type {\n        vertical-align: middle;\n    }\n\n    .dataframe tbody tr th {\n        vertical-align: top;\n    }\n\n    .dataframe thead th {\n        text-align: right;\n    }\n</style>\n<table border=\"1\" class=\"dataframe\">\n  <thead>\n    <tr style=\"text-align: right;\">\n      <th></th>\n      <th>Postal Code</th>\n      <th>Latitude</th>\n      <th>Longitude</th>\n    </tr>\n  </thead>\n  <tbody>\n    <tr>\n      <th>0</th>\n      <td>M1B</td>\n      <td>43.806686</td>\n      <td>-79.194353</td>\n    </tr>\n    <tr>\n      <th>1</th>\n      <td>M1C</td>\n      <td>43.784535</td>\n      <td>-79.160497</td>\n    </tr>\n    <tr>\n      <th>2</th>\n      <td>M1E</td>\n      <td>43.763573</td>\n      <td>-79.188711</td>\n    </tr>\n    <tr>\n      <th>3</th>\n      <td>M1G</td>\n      <td>43.770992</td>\n      <td>-79.216917</td>\n    </tr>\n    <tr>\n      <th>4</th>\n      <td>M1H</td>\n      <td>43.773136</td>\n      <td>-79.239476</td>\n    </tr>\n  </tbody>\n</table>\n</div>", 
                        "text/plain": "  Postal Code   Latitude  Longitude\n0         M1B  43.806686 -79.194353\n1         M1C  43.784535 -79.160497\n2         M1E  43.763573 -79.188711\n3         M1G  43.770992 -79.216917\n4         M1H  43.773136 -79.239476"
                    }, 
                    "execution_count": 95
                }
            ], 
            "metadata": {}
        }, 
        {
            "source": "df_postal_codes_merged = df_postal_codes_final.merge(df_geospatial, left_on='Postcode', right_on='Postal Code')", 
            "cell_type": "code", 
            "execution_count": 96, 
            "outputs": [], 
            "metadata": {}
        }, 
        {
            "source": "df_postal_codes_merged.head()", 
            "cell_type": "code", 
            "execution_count": 97, 
            "outputs": [
                {
                    "output_type": "execute_result", 
                    "metadata": {}, 
                    "data": {
                        "text/html": "<div>\n<style scoped>\n    .dataframe tbody tr th:only-of-type {\n        vertical-align: middle;\n    }\n\n    .dataframe tbody tr th {\n        vertical-align: top;\n    }\n\n    .dataframe thead th {\n        text-align: right;\n    }\n</style>\n<table border=\"1\" class=\"dataframe\">\n  <thead>\n    <tr style=\"text-align: right;\">\n      <th></th>\n      <th>Postcode</th>\n      <th>Borough</th>\n      <th>Neighbourhood</th>\n      <th>Postal Code</th>\n      <th>Latitude</th>\n      <th>Longitude</th>\n    </tr>\n  </thead>\n  <tbody>\n    <tr>\n      <th>0</th>\n      <td>M1B</td>\n      <td>Scarborough</td>\n      <td>Rouge,Malvern</td>\n      <td>M1B</td>\n      <td>43.806686</td>\n      <td>-79.194353</td>\n    </tr>\n    <tr>\n      <th>1</th>\n      <td>M1C</td>\n      <td>Scarborough</td>\n      <td>Highland Creek,Rouge Hill,Port Union</td>\n      <td>M1C</td>\n      <td>43.784535</td>\n      <td>-79.160497</td>\n    </tr>\n    <tr>\n      <th>2</th>\n      <td>M1E</td>\n      <td>Scarborough</td>\n      <td>Guildwood,Morningside,West Hill</td>\n      <td>M1E</td>\n      <td>43.763573</td>\n      <td>-79.188711</td>\n    </tr>\n    <tr>\n      <th>3</th>\n      <td>M1G</td>\n      <td>Scarborough</td>\n      <td>Woburn</td>\n      <td>M1G</td>\n      <td>43.770992</td>\n      <td>-79.216917</td>\n    </tr>\n    <tr>\n      <th>4</th>\n      <td>M1H</td>\n      <td>Scarborough</td>\n      <td>Cedarbrae</td>\n      <td>M1H</td>\n      <td>43.773136</td>\n      <td>-79.239476</td>\n    </tr>\n  </tbody>\n</table>\n</div>", 
                        "text/plain": "  Postcode      Borough                         Neighbourhood Postal Code  \\\n0      M1B  Scarborough                         Rouge,Malvern         M1B   \n1      M1C  Scarborough  Highland Creek,Rouge Hill,Port Union         M1C   \n2      M1E  Scarborough       Guildwood,Morningside,West Hill         M1E   \n3      M1G  Scarborough                                Woburn         M1G   \n4      M1H  Scarborough                             Cedarbrae         M1H   \n\n    Latitude  Longitude  \n0  43.806686 -79.194353  \n1  43.784535 -79.160497  \n2  43.763573 -79.188711  \n3  43.770992 -79.216917  \n4  43.773136 -79.239476  "
                    }, 
                    "execution_count": 97
                }
            ], 
            "metadata": {}
        }, 
        {
            "source": "df_postal_codes_merged.drop(['Postal Code'], axis=1, inplace=True)", 
            "cell_type": "code", 
            "execution_count": 99, 
            "outputs": [], 
            "metadata": {}
        }, 
        {
            "source": "df_postal_codes_merged.head()", 
            "cell_type": "code", 
            "execution_count": 100, 
            "outputs": [
                {
                    "output_type": "execute_result", 
                    "metadata": {}, 
                    "data": {
                        "text/html": "<div>\n<style scoped>\n    .dataframe tbody tr th:only-of-type {\n        vertical-align: middle;\n    }\n\n    .dataframe tbody tr th {\n        vertical-align: top;\n    }\n\n    .dataframe thead th {\n        text-align: right;\n    }\n</style>\n<table border=\"1\" class=\"dataframe\">\n  <thead>\n    <tr style=\"text-align: right;\">\n      <th></th>\n      <th>Postcode</th>\n      <th>Borough</th>\n      <th>Neighbourhood</th>\n      <th>Latitude</th>\n      <th>Longitude</th>\n    </tr>\n  </thead>\n  <tbody>\n    <tr>\n      <th>0</th>\n      <td>M1B</td>\n      <td>Scarborough</td>\n      <td>Rouge,Malvern</td>\n      <td>43.806686</td>\n      <td>-79.194353</td>\n    </tr>\n    <tr>\n      <th>1</th>\n      <td>M1C</td>\n      <td>Scarborough</td>\n      <td>Highland Creek,Rouge Hill,Port Union</td>\n      <td>43.784535</td>\n      <td>-79.160497</td>\n    </tr>\n    <tr>\n      <th>2</th>\n      <td>M1E</td>\n      <td>Scarborough</td>\n      <td>Guildwood,Morningside,West Hill</td>\n      <td>43.763573</td>\n      <td>-79.188711</td>\n    </tr>\n    <tr>\n      <th>3</th>\n      <td>M1G</td>\n      <td>Scarborough</td>\n      <td>Woburn</td>\n      <td>43.770992</td>\n      <td>-79.216917</td>\n    </tr>\n    <tr>\n      <th>4</th>\n      <td>M1H</td>\n      <td>Scarborough</td>\n      <td>Cedarbrae</td>\n      <td>43.773136</td>\n      <td>-79.239476</td>\n    </tr>\n  </tbody>\n</table>\n</div>", 
                        "text/plain": "  Postcode      Borough                         Neighbourhood   Latitude  \\\n0      M1B  Scarborough                         Rouge,Malvern  43.806686   \n1      M1C  Scarborough  Highland Creek,Rouge Hill,Port Union  43.784535   \n2      M1E  Scarborough       Guildwood,Morningside,West Hill  43.763573   \n3      M1G  Scarborough                                Woburn  43.770992   \n4      M1H  Scarborough                             Cedarbrae  43.773136   \n\n   Longitude  \n0 -79.194353  \n1 -79.160497  \n2 -79.188711  \n3 -79.216917  \n4 -79.239476  "
                    }, 
                    "execution_count": 100
                }
            ], 
            "metadata": {}
        }, 
        {
            "source": "", 
            "cell_type": "code", 
            "execution_count": null, 
            "outputs": [], 
            "metadata": {}
        }
    ], 
    "nbformat": 4, 
    "metadata": {
        "kernelspec": {
            "display_name": "Python 3.6", 
            "name": "python3", 
            "language": "python"
        }, 
        "language_info": {
            "mimetype": "text/x-python", 
            "nbconvert_exporter": "python", 
            "version": "3.6.8", 
            "name": "python", 
            "pygments_lexer": "ipython3", 
            "file_extension": ".py", 
            "codemirror_mode": {
                "version": 3, 
                "name": "ipython"
            }
        }
    }
}